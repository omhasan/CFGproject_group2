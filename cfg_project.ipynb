# Import necessary libraries
import pandas as pd
import matplotlib.pyplot as plt
import statistics

# Read sales data from CSV file 
data = pd.read_csv('sales.csv')

# Convert DataFrame to list
sales_col = data['sales'].tolist()

# Print sales data
print(f'Sales: {sales_col}\n')

# # Calculate sum of all sales
total_sales = sum(sales_col)
print(f'Total sales across all months: {total_sales}\n')

# # Calculate average sales
avg_sales = round(statistics.mean(sales_col), 2)
print(f'Average sales: {avg_sales}\n')

# Create pandas Series for sales and month data
sales_series = pd.Series(sales_col)
month_series = pd.Series(data['month'])

# Highest and lowest sales with corresponding months
highest_sale = sales_series.max()
lowest_sale = sales_series.min()
highest_month = month_series[sales_series.idxmax()]
lowest_month = month_series[sales_series.idxmin()]

# Print above code block
print(f'Highest sale: {highest_sale} (Month: {highest_month})\n')
print(f'Lowest sale: {lowest_sale} (Month: {lowest_month})\n')

# Create bar chart of sales data
x = data['month']
y = data['sales']
plt.xlabel('Month')
plt.ylabel('Sales')
plt.title('Sales data for 2018')
plt.bar(x, y)
plt.show()

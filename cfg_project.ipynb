import csv

# csv.reader creates a reader object that we can iterate over while
# csv.DictReader converts rows to dictionaries so end result won't have header 'sales'

with open('sales.csv', 'r') as csvfile:
    csvreader = csv.DictReader(csvfile)

    sales_col = []

    for row in csvreader:
        print(row['sales'])
        sales_col.append(int(row['sales'])) # converted str into int for sum calculation

print('Sales:', sales_col)

total_sales = sum(sales_col)
print('Total sales across all months: {}'.format(total_sales))

import pandas as pd
import matplotlib.pyplot as plt

df = pd.read_csv('sales.csv')
x = df['month']
y = df['sales']
x_axis = plt.xlabel('month')
y_axis = plt.ylabel('sales')

plt.bar(x , y)
plt.show()
